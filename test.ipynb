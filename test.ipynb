{
 "cells": [
  {
   "cell_type": "code",
   "execution_count": 11,
   "metadata": {},
   "outputs": [],
   "source": [
    "from sklearn.manifold import TSNE\n",
    "from keras.datasets import mnist\n",
    "from sklearn.datasets import load_iris\n",
    "from numpy import reshape\n",
    "import seaborn as sns\n",
    "import pandas as pd  \n",
    "import numpy as np\n",
    "import matplotlib.pyplot as plt"
   ]
  },
  {
   "cell_type": "code",
   "execution_count": 16,
   "metadata": {},
   "outputs": [],
   "source": [
    "iris = load_iris()\n",
    "x = iris.data\n",
    "y = iris.target "
   ]
  },
  {
   "cell_type": "code",
   "execution_count": 18,
   "metadata": {},
   "outputs": [
    {
     "name": "stderr",
     "output_type": "stream",
     "text": [
      "c:\\Users\\cuden\\anaconda3\\lib\\site-packages\\sklearn\\manifold\\_t_sne.py:780: FutureWarning: The default initialization in TSNE will change from 'random' to 'pca' in 1.2.\n",
      "  warnings.warn(\n",
      "c:\\Users\\cuden\\anaconda3\\lib\\site-packages\\sklearn\\manifold\\_t_sne.py:790: FutureWarning: The default learning rate in TSNE will change from 200.0 to 'auto' in 1.2.\n",
      "  warnings.warn(\n"
     ]
    },
    {
     "name": "stdout",
     "output_type": "stream",
     "text": [
      "[t-SNE] Computing 91 nearest neighbors...\n",
      "[t-SNE] Indexed 150 samples in 0.000s...\n",
      "[t-SNE] Computed neighbors for 150 samples in 0.003s...\n",
      "[t-SNE] Computed conditional probabilities for sample 150 / 150\n",
      "[t-SNE] Mean sigma: 0.509910\n",
      "[t-SNE] KL divergence after 250 iterations with early exaggeration: 50.387634\n",
      "[t-SNE] KL divergence after 1000 iterations: 0.129141\n"
     ]
    }
   ],
   "source": [
    "tsne = TSNE(n_components=2, verbose=1, random_state=123)\n",
    "z = tsne.fit_transform(x) \n",
    "\n",
    "df = pd.DataFrame()\n",
    "df[\"y\"] = y\n",
    "df[\"comp-1\"] = z[:,0]\n",
    "df[\"comp-2\"] = z[:,1]"
   ]
  },
  {
   "cell_type": "code",
   "execution_count": 15,
   "metadata": {},
   "outputs": [
    {
     "ename": "NameError",
     "evalue": "name 'df' is not defined",
     "output_type": "error",
     "traceback": [
      "\u001b[1;31m---------------------------------------------------------------------------\u001b[0m",
      "\u001b[1;31mNameError\u001b[0m                                 Traceback (most recent call last)",
      "\u001b[1;32me:\\my projects\\MBFD\\test.ipynb Cell 4\u001b[0m in \u001b[0;36m<cell line: 1>\u001b[1;34m()\u001b[0m\n\u001b[1;32m----> <a href='vscode-notebook-cell:/e%3A/my%20projects/MBFD/test.ipynb#W3sZmlsZQ%3D%3D?line=0'>1</a>\u001b[0m sns\u001b[39m.\u001b[39mscatterplot(x\u001b[39m=\u001b[39m\u001b[39m\"\u001b[39m\u001b[39mcomp-1\u001b[39m\u001b[39m\"\u001b[39m, y\u001b[39m=\u001b[39m\u001b[39m\"\u001b[39m\u001b[39mcomp-2\u001b[39m\u001b[39m\"\u001b[39m, hue\u001b[39m=\u001b[39mdf\u001b[39m.\u001b[39my\u001b[39m.\u001b[39mtolist(),\n\u001b[0;32m      <a href='vscode-notebook-cell:/e%3A/my%20projects/MBFD/test.ipynb#W3sZmlsZQ%3D%3D?line=1'>2</a>\u001b[0m                 palette\u001b[39m=\u001b[39msns\u001b[39m.\u001b[39mcolor_palette(\u001b[39m\"\u001b[39m\u001b[39mhls\u001b[39m\u001b[39m\"\u001b[39m, \u001b[39m3\u001b[39m),\n\u001b[0;32m      <a href='vscode-notebook-cell:/e%3A/my%20projects/MBFD/test.ipynb#W3sZmlsZQ%3D%3D?line=2'>3</a>\u001b[0m                 data\u001b[39m=\u001b[39mdf)\u001b[39m.\u001b[39mset(title\u001b[39m=\u001b[39m\u001b[39m\"\u001b[39m\u001b[39mIris data T-SNE projection\u001b[39m\u001b[39m\"\u001b[39m)\n",
      "\u001b[1;31mNameError\u001b[0m: name 'df' is not defined"
     ]
    }
   ],
   "source": [
    "sns.scatterplot(x=\"comp-1\", y=\"comp-2\", hue=df.y.tolist(),\n",
    "                palette=sns.color_palette(\"hls\", 3),\n",
    "                data=df).set(title=\"Iris data T-SNE projection\") "
   ]
  },
  {
   "cell_type": "code",
   "execution_count": null,
   "metadata": {},
   "outputs": [],
   "source": []
  }
 ],
 "metadata": {
  "kernelspec": {
   "display_name": "base",
   "language": "python",
   "name": "python3"
  },
  "language_info": {
   "codemirror_mode": {
    "name": "ipython",
    "version": 3
   },
   "file_extension": ".py",
   "mimetype": "text/x-python",
   "name": "python",
   "nbconvert_exporter": "python",
   "pygments_lexer": "ipython3",
   "version": "3.9.13 (main, Aug 25 2022, 23:51:50) [MSC v.1916 64 bit (AMD64)]"
  },
  "orig_nbformat": 4,
  "vscode": {
   "interpreter": {
    "hash": "0f9248da3dea885c0c47324cc0eed29873d6a099e6bea14d89d006c8b04da58f"
   }
  }
 },
 "nbformat": 4,
 "nbformat_minor": 2
}
