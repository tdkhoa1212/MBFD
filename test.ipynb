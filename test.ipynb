{
 "cells": [
  {
   "cell_type": "code",
   "execution_count": 1,
   "metadata": {},
   "outputs": [],
   "source": [
    "from itertools import combinations\n",
    "import numpy as np\n",
    "import matplotlib.pyplot as plt"
   ]
  },
  {
   "cell_type": "code",
   "execution_count": 13,
   "metadata": {},
   "outputs": [],
   "source": [
    "comb = combinations([0, 1, 2, 3, 4], 3)"
   ]
  },
  {
   "cell_type": "code",
   "execution_count": 14,
   "metadata": {},
   "outputs": [
    {
     "name": "stdout",
     "output_type": "stream",
     "text": [
      "0 (0, 1, 2)\n",
      "1 (0, 1, 3)\n",
      "2 (0, 1, 4)\n",
      "3 (0, 2, 3)\n",
      "4 (0, 2, 4)\n",
      "5 (0, 3, 4)\n",
      "6 (1, 2, 3)\n",
      "7 (1, 2, 4)\n",
      "8 (1, 3, 4)\n",
      "9 (2, 3, 4)\n"
     ]
    }
   ],
   "source": [
    "for idx, i in enumerate(list(comb)):\n",
    "    print(idx, i)"
   ]
  },
  {
   "cell_type": "code",
   "execution_count": 15,
   "metadata": {},
   "outputs": [
    {
     "ename": "NameError",
     "evalue": "name 'df' is not defined",
     "output_type": "error",
     "traceback": [
      "\u001b[1;31m---------------------------------------------------------------------------\u001b[0m",
      "\u001b[1;31mNameError\u001b[0m                                 Traceback (most recent call last)",
      "\u001b[1;32me:\\my projects\\MBFD\\test.ipynb Cell 4\u001b[0m in \u001b[0;36m<cell line: 1>\u001b[1;34m()\u001b[0m\n\u001b[1;32m----> <a href='vscode-notebook-cell:/e%3A/my%20projects/MBFD/test.ipynb#W3sZmlsZQ%3D%3D?line=0'>1</a>\u001b[0m sns\u001b[39m.\u001b[39mscatterplot(x\u001b[39m=\u001b[39m\u001b[39m\"\u001b[39m\u001b[39mcomp-1\u001b[39m\u001b[39m\"\u001b[39m, y\u001b[39m=\u001b[39m\u001b[39m\"\u001b[39m\u001b[39mcomp-2\u001b[39m\u001b[39m\"\u001b[39m, hue\u001b[39m=\u001b[39mdf\u001b[39m.\u001b[39my\u001b[39m.\u001b[39mtolist(),\n\u001b[0;32m      <a href='vscode-notebook-cell:/e%3A/my%20projects/MBFD/test.ipynb#W3sZmlsZQ%3D%3D?line=1'>2</a>\u001b[0m                 palette\u001b[39m=\u001b[39msns\u001b[39m.\u001b[39mcolor_palette(\u001b[39m\"\u001b[39m\u001b[39mhls\u001b[39m\u001b[39m\"\u001b[39m, \u001b[39m3\u001b[39m),\n\u001b[0;32m      <a href='vscode-notebook-cell:/e%3A/my%20projects/MBFD/test.ipynb#W3sZmlsZQ%3D%3D?line=2'>3</a>\u001b[0m                 data\u001b[39m=\u001b[39mdf)\u001b[39m.\u001b[39mset(title\u001b[39m=\u001b[39m\u001b[39m\"\u001b[39m\u001b[39mIris data T-SNE projection\u001b[39m\u001b[39m\"\u001b[39m)\n",
      "\u001b[1;31mNameError\u001b[0m: name 'df' is not defined"
     ]
    }
   ],
   "source": [
    "sns.scatterplot(x=\"comp-1\", y=\"comp-2\", hue=df.y.tolist(),\n",
    "                palette=sns.color_palette(\"hls\", 3),\n",
    "                data=df).set(title=\"Iris data T-SNE projection\") "
   ]
  },
  {
   "cell_type": "code",
   "execution_count": null,
   "metadata": {},
   "outputs": [],
   "source": []
  }
 ],
 "metadata": {
  "kernelspec": {
   "display_name": "base",
   "language": "python",
   "name": "python3"
  },
  "language_info": {
   "codemirror_mode": {
    "name": "ipython",
    "version": 3
   },
   "file_extension": ".py",
   "mimetype": "text/x-python",
   "name": "python",
   "nbconvert_exporter": "python",
   "pygments_lexer": "ipython3",
   "version": "3.9.13"
  },
  "orig_nbformat": 4,
  "vscode": {
   "interpreter": {
    "hash": "0f9248da3dea885c0c47324cc0eed29873d6a099e6bea14d89d006c8b04da58f"
   }
  }
 },
 "nbformat": 4,
 "nbformat_minor": 2
}
